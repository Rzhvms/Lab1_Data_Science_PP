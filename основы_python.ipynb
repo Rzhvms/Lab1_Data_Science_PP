{
  "cells": [
    {
      "cell_type": "markdown",
      "metadata": {
        "id": "M-DGa20PaHnu"
      },
      "source": [
        "#Задача 1\n",
        "Написать функцию на вход которой подается строка, состоящая из латинских букв.\n",
        "Функция должна вернуть количество гласных букв (a, e, i, o, u) в этой строке. Написать тесты для кода"
      ]
    },
    {
      "cell_type": "code",
      "execution_count": 13,
      "metadata": {
        "id": "XvX8X_JJ6PCb"
      },
      "outputs": [
        {
          "name": "stdout",
          "output_type": "stream",
          "text": [
            "Тесты пройдены\n"
          ]
        }
      ],
      "source": [
        "def count_vowel_letters(string):\n",
        "    counter = 0\n",
        "    for i in string.lower():\n",
        "        if i in ['a', 'e', 'i', 'o', 'u']:\n",
        "            counter += 1\n",
        "\n",
        "    return counter\n",
        "\n",
        "\n",
        "def test_count_vowel_letters():\n",
        "    assert count_vowel_letters(\"\") == 0\n",
        "    assert count_vowel_letters(\"Data Science\") == 5\n",
        "    assert count_vowel_letters(\"Hi, Ben!\") == 2\n",
        "    assert count_vowel_letters(\"bcdf\") == 0\n",
        "    assert count_vowel_letters(\"AaeiOoUIE\") == 9\n",
        "    assert count_vowel_letters(\"INFINITY\") == 3\n",
        "\n",
        "    print('Тесты пройдены')\n",
        "\n",
        "\n",
        "test_count_vowel_letters()"
      ]
    },
    {
      "cell_type": "markdown",
      "metadata": {
        "id": "t2ClV_Y0bbr6"
      },
      "source": [
        "# Задача 2\n",
        "Написать функцию на вход, которой подается строка. Функция должна вернуть true, если\n",
        "каждый символ в строке встречается только 1 раз, иначе должна вернуть false. Написать тесты для кода"
      ]
    },
    {
      "cell_type": "code",
      "execution_count": null,
      "metadata": {
        "id": "FppbECao6VIz"
      },
      "outputs": [
        {
          "name": "stdout",
          "output_type": "stream",
          "text": [
            "Тесты пройден\n"
          ]
        }
      ],
      "source": [
        "def compare_length(string):\n",
        "    return len(string) == len(set(string))\n",
        "\n",
        "\n",
        "def test_compare_length():\n",
        "    assert compare_length('abcd') == True\n",
        "    assert compare_length('data') == False\n",
        "    assert compare_length('') == True\n",
        "    assert compare_length('a b c d') == False\n",
        "    assert compare_length('x') == True\n",
        "    assert compare_length('Aa') == True\n",
        "    assert compare_length('12345') == True\n",
        "    assert compare_length('12321') == False\n",
        "    assert compare_length('QWerTY') == True\n",
        "    assert compare_length('!@#$%^&*()_+=') == True\n",
        "\n",
        "    print('Тесты пройдены')\n",
        "\n",
        "\n",
        "test_compare_length()"
      ]
    },
    {
      "cell_type": "markdown",
      "metadata": {
        "id": "udRiIK1cdt6E"
      },
      "source": [
        "# Задача 3\n",
        "Написать функцию, которая принимает положительное число и возвращает количество\n",
        "бит равных 1 в этом числе. Написать тесты для кода"
      ]
    },
    {
      "cell_type": "code",
      "execution_count": 14,
      "metadata": {
        "id": "6tkfDJRz6dp_"
      },
      "outputs": [
        {
          "name": "stdout",
          "output_type": "stream",
          "text": [
            "Тесты пройдены\n"
          ]
        }
      ],
      "source": [
        "def count_bits(n):\n",
        "    return bin(n).count('1')\n",
        "\n",
        "\n",
        "def test_count_bits():\n",
        "    assert count_bits(0) == 0\n",
        "    assert count_bits(1) == 1\n",
        "    assert count_bits(7) == 3\n",
        "    assert count_bits(46) == 4\n",
        "    assert count_bits(130) == 2\n",
        "    assert count_bits(1023) == 10\n",
        "    assert count_bits(1234567) == 11\n",
        "    assert count_bits(135654343252) == 16\n",
        "\n",
        "    print('Тесты пройдены')\n",
        "\n",
        "\n",
        "test_count_bits()"
      ]
    },
    {
      "cell_type": "markdown",
      "metadata": {
        "id": "26dDUz-Ae17N"
      },
      "source": [
        "# Задача 4\n",
        "Написать функцию, которая принимает положительное число. Функция должна вернуть то,\n",
        "сколько раз необходимо перемножать цифры числа или результат перемножения, чтобы\n",
        "получилось число состоящее из одной цифры.\n",
        "Например, для входного числа:\n",
        "· 39 функция должна вернуть 3, так как 3*9=27 => 2*7=14 => 1*4=4\n",
        "· 4 функция должна вернуть 0, так как число уже состоит из одной цифры\n",
        "· 999 функция должна вернуть 4, так как 9*9*9=729 => 7*2*9=126 => 1*2*6=12 =>\n",
        "1*2=2. Написать тесты для кода"
      ]
    },
    {
      "cell_type": "code",
      "execution_count": 15,
      "metadata": {
        "id": "BH1A_Mgi6i4G"
      },
      "outputs": [
        {
          "name": "stdout",
          "output_type": "stream",
          "text": [
            "Тесты пройдены\n"
          ]
        }
      ],
      "source": [
        "def magic(n):\n",
        "    counter = 0\n",
        "    while n > 9:\n",
        "        value = 1\n",
        "        for i in str(n):\n",
        "            value *= int(i)\n",
        "        n = value\n",
        "        counter += 1\n",
        "    return counter\n",
        "\n",
        "\n",
        "def test_magic():\n",
        "    assert magic(0) == 0\n",
        "    assert magic(5) == 0\n",
        "    assert magic(12) == 1\n",
        "    assert magic(25) == 2\n",
        "    assert magic(123) == 1\n",
        "    assert magic(555) == 3\n",
        "    assert magic(1234) == 2\n",
        "    assert magic(56789) == 2\n",
        "    assert magic(567890) == 1\n",
        "\n",
        "    print('Тесты пройдены')\n",
        "\n",
        "\n",
        "test_magic()"
      ]
    },
    {
      "cell_type": "markdown",
      "metadata": {
        "id": "0nS-kIa8g8vd"
      },
      "source": [
        "# Задача 5\n",
        "Написать функцию, которая принимает два целочисленных вектора одинаковой длины и\n",
        "возвращает среднеквадратическое отклонение двух векторов. Написать тесты для кода"
      ]
    },
    {
      "cell_type": "code",
      "execution_count": 16,
      "metadata": {
        "id": "8iphx4LM6xbx"
      },
      "outputs": [
        {
          "name": "stdout",
          "output_type": "stream",
          "text": [
            "Тесты пройдены\n"
          ]
        }
      ],
      "source": [
        "import pytest\n",
        "\n",
        "\n",
        "def mse(pred, true):\n",
        "    if len(pred) != len(true):\n",
        "        raise ValueError()\n",
        "    \n",
        "    if not pred or not true:\n",
        "        raise ValueError()\n",
        "    \n",
        "    squared_errors = [(x - y) ** 2 for x, y in zip(pred, true)]\n",
        "    return sum(squared_errors) / len(pred)\n",
        "\n",
        "\n",
        "def test_mse():\n",
        "    assert mse([5], [10]) == 25\n",
        "    assert mse([10], [10]) == 0\n",
        "    assert mse([1, 2], [3, 4]) == 4\n",
        "    assert mse([1, 2, 3, 4], [5, 6, 7, 8]) == 16\n",
        "    assert mse([0.5, 1.5], [1.5, 0.5]) == 1\n",
        "    with pytest.raises(ValueError):\n",
        "        mse([], [])\n",
        "    with pytest.raises(ValueError):\n",
        "        mse([1], [])\n",
        "    with pytest.raises(ValueError):\n",
        "        mse([], [2])\n",
        "    with pytest.raises(ValueError):\n",
        "        mse([1], [2, 3]) \n",
        "    with pytest.raises(ValueError):\n",
        "        mse([1, 2], [3])  \n",
        "    \n",
        "    print('Тесты пройдены')\n",
        "    \n",
        "\n",
        "test_mse()"
      ]
    },
    {
      "cell_type": "markdown",
      "metadata": {
        "id": "vpIPKL439zkw"
      },
      "source": [
        "# Задача 6\n",
        "Написать функцию, принимающая целое положительное число. Функция должна вернуть\n",
        "строку вида “(n1**p1)(n2**p2)…(nk**pk)” представляющая разложение числа на простые\n",
        "множители (если pi == 1, то выводить только ni).\n",
        "Например, для числа 86240 функция должна вернуть “(2**5)(5)(7**2)(11)”. Написать тесты для кода"
      ]
    },
    {
      "cell_type": "code",
      "execution_count": 17,
      "metadata": {
        "id": "pFebmcZk94Jw"
      },
      "outputs": [
        {
          "name": "stdout",
          "output_type": "stream",
          "text": [
            "Тесты пройдены\n"
          ]
        }
      ],
      "source": [
        "import pytest\n",
        "\n",
        "\n",
        "def decompose_number(n):\n",
        "    if n <= 0:\n",
        "        raise ValueError()\n",
        "    \n",
        "    div = 2\n",
        "    factors = {}\n",
        "\n",
        "    while div * div <= n:\n",
        "        while n % div == 0:\n",
        "            factors[div] = factors.get(div, 0) + 1\n",
        "            n //= div\n",
        "        div += 1\n",
        "    if n > 1:\n",
        "        factors[n] = factors.get(n, 0) + 1\n",
        "\n",
        "    res = []\n",
        "    for factor, counter in sorted(factors.items()):\n",
        "        if counter > 1:\n",
        "            res.append(f\"({factor}**{counter})\")\n",
        "        else:\n",
        "            res.append(f\"({factor})\")\n",
        "    \n",
        "    return ''.join(res)\n",
        "\n",
        "\n",
        "def test_decompose_number():\n",
        "    assert decompose_number(5) == '(5)'\n",
        "    assert decompose_number(15) == \"(3)(5)\"\n",
        "    assert decompose_number(100) == \"(2**2)(5**2)\"\n",
        "    assert decompose_number(1025) == '(5**2)(41)'\n",
        "    assert decompose_number(86240) == \"(2**5)(5)(7**2)(11)\"\n",
        "    with pytest.raises(ValueError):\n",
        "        decompose_number(0)\n",
        "    with pytest.raises(ValueError):\n",
        "        decompose_number(-100)\n",
        "\n",
        "    print('Тесты пройдены')\n",
        "\n",
        "\n",
        "test_decompose_number()"
      ]
    },
    {
      "cell_type": "markdown",
      "metadata": {
        "id": "ps2s0BudX7A2"
      },
      "source": [
        "# Задача 7\n",
        "Написать функцию, принимающая целое число n, задающее количество кубиков. Функция\n",
        "должна определить, можно ли из данного кол-ва кубиков построить пирамиду, то есть\n",
        "можно ли представить число n как 1^2+2^2+3^2+…+k^2. Если можно, то функция должна\n",
        "вернуть k, иначе строку “It is impossible”. Написать тесты для кода"
      ]
    },
    {
      "cell_type": "code",
      "execution_count": 18,
      "metadata": {
        "id": "3YPjEXxhX_YT"
      },
      "outputs": [
        {
          "name": "stdout",
          "output_type": "stream",
          "text": [
            "Тесты пройдены\n"
          ]
        }
      ],
      "source": [
        "def pyramid(number):\n",
        "    if number < 1:\n",
        "        return \"It is impossible\"\n",
        "    \n",
        "    k = 0\n",
        "    summa = 0\n",
        "    while summa < number:\n",
        "        k += 1\n",
        "        summa += k ** 2\n",
        "\n",
        "    if summa == number:\n",
        "        return k\n",
        "    \n",
        "    return \"It is impossible\"\n",
        "\n",
        "\n",
        "def test_pyramid():\n",
        "    assert pyramid(1) == 1\n",
        "    assert pyramid(14) == 3\n",
        "    assert pyramid(30) == 4\n",
        "    assert pyramid(55) == 5\n",
        "    assert pyramid(0) == \"It is impossible\"\n",
        "    assert pyramid(-10) == \"It is impossible\"\n",
        "\n",
        "    print('Тесты пройдены')\n",
        "\n",
        "\n",
        "test_pyramid()"
      ]
    },
    {
      "cell_type": "markdown",
      "metadata": {
        "id": "KeKgmIdAQMEJ"
      },
      "source": [
        "# Задача 8\n",
        "Функция принимает на вход положительное число и определяет является ли оно сбалансированным, т.е. сумма цифр до средних равна сумме цифр после. Средними в случае нечетного числа цифр считать одну цифру, в случае четного - две средних. Написать тесты для кода"
      ]
    },
    {
      "cell_type": "code",
      "execution_count": 19,
      "metadata": {
        "id": "gMAAqtqlQrZt"
      },
      "outputs": [
        {
          "name": "stdout",
          "output_type": "stream",
          "text": [
            "Тесты пройдены\n"
          ]
        }
      ],
      "source": [
        "def is_balanced_number(n):\n",
        "    nums = list(map(int, str(n)))\n",
        "    length = len(nums)\n",
        "    mid = length // 2\n",
        "\n",
        "    if length % 2 == 0:\n",
        "        return sum(nums[:mid]) == sum(nums[mid:])\n",
        "    else:\n",
        "        return sum(nums[:mid]) == sum(nums[mid+1:])\n",
        "\n",
        "\n",
        "def test_is_balanced_number():\n",
        "    assert is_balanced_number(5) == True\n",
        "    assert is_balanced_number(15) == False\n",
        "    assert is_balanced_number(1001) == True\n",
        "    assert is_balanced_number(12321) == True\n",
        "    assert is_balanced_number(123221) == False\n",
        "    assert is_balanced_number(456654) == True\n",
        "    assert is_balanced_number(98789) == True\n",
        "\n",
        "    print('Тесты пройдены')\n",
        "\n",
        "\n",
        "test_is_balanced_number()"
      ]
    }
  ],
  "metadata": {
    "colab": {
      "provenance": []
    },
    "kernelspec": {
      "display_name": "Python 3",
      "name": "python3"
    },
    "language_info": {
      "codemirror_mode": {
        "name": "ipython",
        "version": 3
      },
      "file_extension": ".py",
      "mimetype": "text/x-python",
      "name": "python",
      "nbconvert_exporter": "python",
      "pygments_lexer": "ipython3",
      "version": "3.13.2"
    }
  },
  "nbformat": 4,
  "nbformat_minor": 0
}
